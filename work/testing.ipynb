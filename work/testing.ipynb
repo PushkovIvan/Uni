{
 "cells": [
  {
   "cell_type": "code",
   "execution_count": 2,
   "metadata": {},
   "outputs": [
    {
     "name": "stdout",
     "output_type": "stream",
     "text": [
      "        date     normal    uniform  exponential  poisson\n",
      "0 2023-01-01  54.967142  -4.975523     1.236341        8\n",
      "1 2023-01-02  48.617357  -6.862965     0.187063        6\n",
      "2 2023-01-03  56.476885   9.092907     0.571590        3\n",
      "3 2023-01-04  65.230299  11.194272     2.068953        4\n",
      "4 2023-01-05  47.658466  -9.052416     8.112253        8\n"
     ]
    }
   ],
   "source": [
    "import pandas as pd\n",
    "import numpy as np\n",
    "\n",
    "# Генерация случайных чисел с разными распределениями\n",
    "np.random.seed(42)\n",
    "\n",
    "n = 1000  # Количество строк\n",
    "\n",
    "dates = pd.date_range(start='2023-01-01', periods=n, freq='D')\n",
    "normals = np.random.normal(loc=50, scale=10, size=n)\n",
    "uniforms = np.random.uniform(low=-10, high=20, size=n)\n",
    "exponentials = np.random.exponential(scale=5, size=n)\n",
    "poissons = np.random.poisson(lam=7, size=n)\n",
    "\n",
    "# Создание DataFrame\n",
    "data = {\n",
    "    'date': dates,\n",
    "    'normal': normals,\n",
    "    'uniform': uniforms,\n",
    "    'exponential': exponentials,\n",
    "    'poisson': poissons\n",
    "}\n",
    "\n",
    "df = pd.DataFrame(data)\n",
    "\n",
    "# Сохранение данных в CSV файл (если нужно)\n",
    "df.to_csv('generated_data.csv', index=False)\n",
    "\n",
    "print(df.head())\n"
   ]
  },
  {
   "cell_type": "code",
   "execution_count": 3,
   "metadata": {},
   "outputs": [
    {
     "name": "stdout",
     "output_type": "stream",
     "text": [
      "Collecting reportlabNote: you may need to restart the kernel to use updated packages.\n",
      "\n",
      "  Downloading reportlab-4.2.5-py3-none-any.whl.metadata (1.5 kB)\n",
      "Requirement already satisfied: pillow>=9.0.0 in c:\\users\\иван\\appdata\\local\\packages\\pythonsoftwarefoundation.python.3.11_qbz5n2kfra8p0\\localcache\\local-packages\\python311\\site-packages (from reportlab) (10.1.0)\n",
      "Requirement already satisfied: chardet in c:\\users\\иван\\appdata\\local\\packages\\pythonsoftwarefoundation.python.3.11_qbz5n2kfra8p0\\localcache\\local-packages\\python311\\site-packages (from reportlab) (5.2.0)\n",
      "Downloading reportlab-4.2.5-py3-none-any.whl (1.9 MB)\n",
      "   ---------------------------------------- 0.0/1.9 MB ? eta -:--:--\n",
      "   ---------------------------------------- 0.0/1.9 MB ? eta -:--:--\n",
      "   --------------------- ------------------ 1.0/1.9 MB 4.6 MB/s eta 0:00:01\n",
      "   ---------------------------------------- 1.9/1.9 MB 5.7 MB/s eta 0:00:00\n",
      "Installing collected packages: reportlab\n",
      "Successfully installed reportlab-4.2.5\n"
     ]
    }
   ],
   "source": [
    "pip install reportlab\n"
   ]
  },
  {
   "cell_type": "code",
   "execution_count": null,
   "metadata": {},
   "outputs": [],
   "source": []
  },
  {
   "cell_type": "code",
   "execution_count": null,
   "metadata": {},
   "outputs": [],
   "source": []
  },
  {
   "cell_type": "code",
   "execution_count": null,
   "metadata": {},
   "outputs": [],
   "source": []
  },
  {
   "cell_type": "code",
   "execution_count": null,
   "metadata": {},
   "outputs": [],
   "source": []
  },
  {
   "cell_type": "code",
   "execution_count": null,
   "metadata": {},
   "outputs": [],
   "source": []
  },
  {
   "cell_type": "code",
   "execution_count": null,
   "metadata": {},
   "outputs": [],
   "source": []
  },
  {
   "cell_type": "code",
   "execution_count": null,
   "metadata": {},
   "outputs": [],
   "source": []
  }
 ],
 "metadata": {
  "kernelspec": {
   "display_name": "Python 3",
   "language": "python",
   "name": "python3"
  },
  "language_info": {
   "codemirror_mode": {
    "name": "ipython",
    "version": 3
   },
   "file_extension": ".py",
   "mimetype": "text/x-python",
   "name": "python",
   "nbconvert_exporter": "python",
   "pygments_lexer": "ipython3",
   "version": "3.11.9"
  }
 },
 "nbformat": 4,
 "nbformat_minor": 2
}
